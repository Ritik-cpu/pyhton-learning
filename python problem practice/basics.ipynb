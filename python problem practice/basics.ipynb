{
 "cells": [
  {
   "cell_type": "code",
   "execution_count": 1,
   "id": "5c91be5b",
   "metadata": {},
   "outputs": [
    {
     "name": "stdout",
     "output_type": "stream",
     "text": [
      "hello world\n"
     ]
    }
   ],
   "source": [
    "print(\"hello world\")"
   ]
  },
  {
   "cell_type": "code",
   "execution_count": 10,
   "id": "a45fb332",
   "metadata": {},
   "outputs": [
    {
     "name": "stdout",
     "output_type": "stream",
     "text": [
      "enter the number: 6\n",
      "enter the number again: 5\n",
      "the sum is: 11\n",
      "6 is greates\n"
     ]
    }
   ],
   "source": [
    "#add two number & maximum\n",
    "num1=int(input(\"enter the number: \"))\n",
    "num2=int(input(\"enter the number again: \"))\n",
    "print(\"the sum is: \"+str(num1+num2))\n",
    "\n",
    "#find maximum\n",
    "if num1>num2:\n",
    "    print('{} is greates'.format(num1))\n",
    "else:\n",
    "    print('{} is greates'.format(num2))\n",
    "\n"
   ]
  },
  {
   "cell_type": "code",
   "execution_count": 33,
   "id": "f2fdd6db",
   "metadata": {},
   "outputs": [
    {
     "name": "stdout",
     "output_type": "stream",
     "text": [
      "120\n"
     ]
    }
   ],
   "source": [
    "#factorial of number\n",
    "num=5\n",
    "fact=1\n",
    "if num==1:\n",
    "    print(1)\n",
    "else:\n",
    "    for i in range(1,num+1):\n",
    "        fact=i*fact\n",
    "    print(fact)"
   ]
  },
  {
   "cell_type": "code",
   "execution_count": 37,
   "id": "49d1b6ad",
   "metadata": {},
   "outputs": [
    {
     "name": "stdout",
     "output_type": "stream",
     "text": [
      "enter the principle: 5\n",
      "enter the rate: 5\n",
      "enter the time in month: 5\n",
      "1.25\n"
     ]
    }
   ],
   "source": [
    "#simple intrest in python\n",
    "#formula si=p*r*t/100\n",
    "p=int(input(\"enter the principle: \"))\n",
    "r=int(input(\"enter the rate: \"))\n",
    "t=int(input(\"enter the time in month: \"))\n",
    "\n",
    "si=(p*r*t)/100\n",
    "print(si)\n"
   ]
  },
  {
   "cell_type": "code",
   "execution_count": 41,
   "id": "478aff84",
   "metadata": {},
   "outputs": [
    {
     "name": "stdout",
     "output_type": "stream",
     "text": [
      "enter the num0\n",
      "whole num\n"
     ]
    }
   ],
   "source": [
    "#check the num is positive and negative\n",
    "num=int(input(\"enter the num\"))\n",
    "if num>0:\n",
    "    print('positive')\n",
    "elif num==0:\n",
    "    print('whole number')\n",
    "else:\n",
    "    print('negative')"
   ]
  },
  {
   "cell_type": "code",
   "execution_count": null,
   "id": "48b1846d",
   "metadata": {},
   "outputs": [],
   "source": []
  }
 ],
 "metadata": {
  "kernelspec": {
   "display_name": "Python 3",
   "language": "python",
   "name": "python3"
  },
  "language_info": {
   "codemirror_mode": {
    "name": "ipython",
    "version": 3
   },
   "file_extension": ".py",
   "mimetype": "text/x-python",
   "name": "python",
   "nbconvert_exporter": "python",
   "pygments_lexer": "ipython3",
   "version": "3.9.5"
  }
 },
 "nbformat": 4,
 "nbformat_minor": 5
}
