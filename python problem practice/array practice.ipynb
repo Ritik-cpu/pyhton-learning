{
 "cells": [
  {
   "cell_type": "code",
   "execution_count": 16,
   "id": "80609fbd",
   "metadata": {},
   "outputs": [
    {
     "name": "stdout",
     "output_type": "stream",
     "text": [
      "enter the value34\n",
      "[65, '34']\n"
     ]
    }
   ],
   "source": [
    "#lets work on arrray programs\n",
    "#lets take input into array\n",
    "arr=[]\n",
    "arr.append(65)\n",
    "arr.append(input('enter the value'))\n",
    "print(arr)"
   ]
  },
  {
   "cell_type": "code",
   "execution_count": 23,
   "id": "9962b78e",
   "metadata": {},
   "outputs": [
    {
     "name": "stdout",
     "output_type": "stream",
     "text": [
      "429\n"
     ]
    }
   ],
   "source": [
    "#sum of array\n",
    "ar=[22,44,55,66,77,22,77,66]\n",
    "sm=0\n",
    "for i in ar:\n",
    "    sm=i+sm\n",
    "print(sm)"
   ]
  },
  {
   "cell_type": "code",
   "execution_count": 27,
   "id": "17b6d9ce",
   "metadata": {},
   "outputs": [
    {
     "data": {
      "text/plain": [
       "429"
      ]
     },
     "execution_count": 27,
     "metadata": {},
     "output_type": "execute_result"
    }
   ],
   "source": [
    "#sum using sum method\n",
    "sum(ar)"
   ]
  },
  {
   "cell_type": "code",
   "execution_count": 39,
   "id": "5a6e07bf",
   "metadata": {},
   "outputs": [
    {
     "name": "stdout",
     "output_type": "stream",
     "text": [
      "largest in given arr 77\n"
     ]
    }
   ],
   "source": [
    "# find largest element in array\n",
    "ar=[22,44,55,16,77,22,77,66]\n",
    "\n",
    "def largest(ar,n):\n",
    "        #initialize maximum\n",
    "        mx=ar[0]\n",
    "        #traverse ar element from secound and \n",
    "        #compare every element with current max\n",
    "        for i in range(1,n):\n",
    "            if ar[i] > mx:\n",
    "                mx=ar[i]\n",
    "        return mx\n",
    "\n",
    "n=len(ar)\n",
    "ans=largest(ar,n)\n",
    "print('largest in given arr',ans)\n"
   ]
  },
  {
   "cell_type": "code",
   "execution_count": 53,
   "id": "56d10a9a",
   "metadata": {},
   "outputs": [],
   "source": [
    "#left rotation\n"
   ]
  },
  {
   "cell_type": "code",
   "execution_count": null,
   "id": "18529baf",
   "metadata": {},
   "outputs": [],
   "source": [
    "\n"
   ]
  },
  {
   "cell_type": "code",
   "execution_count": null,
   "id": "9cc7899b",
   "metadata": {},
   "outputs": [],
   "source": []
  },
  {
   "cell_type": "code",
   "execution_count": null,
   "id": "b839ffc3",
   "metadata": {},
   "outputs": [],
   "source": []
  },
  {
   "cell_type": "code",
   "execution_count": null,
   "id": "0fed1ebb",
   "metadata": {},
   "outputs": [],
   "source": []
  },
  {
   "cell_type": "code",
   "execution_count": null,
   "id": "154510e5",
   "metadata": {},
   "outputs": [],
   "source": []
  },
  {
   "cell_type": "code",
   "execution_count": null,
   "id": "ddde6fe9",
   "metadata": {},
   "outputs": [],
   "source": []
  },
  {
   "cell_type": "code",
   "execution_count": null,
   "id": "4013e46c",
   "metadata": {},
   "outputs": [],
   "source": []
  },
  {
   "cell_type": "code",
   "execution_count": null,
   "id": "b714aff0",
   "metadata": {},
   "outputs": [],
   "source": []
  },
  {
   "cell_type": "code",
   "execution_count": null,
   "id": "20f62d3d",
   "metadata": {},
   "outputs": [],
   "source": []
  },
  {
   "cell_type": "code",
   "execution_count": null,
   "id": "73b5a2ef",
   "metadata": {},
   "outputs": [],
   "source": []
  },
  {
   "cell_type": "code",
   "execution_count": null,
   "id": "e88ca619",
   "metadata": {},
   "outputs": [],
   "source": []
  },
  {
   "cell_type": "code",
   "execution_count": null,
   "id": "09ab13b6",
   "metadata": {},
   "outputs": [],
   "source": []
  }
 ],
 "metadata": {
  "kernelspec": {
   "display_name": "Python 3",
   "language": "python",
   "name": "python3"
  },
  "language_info": {
   "codemirror_mode": {
    "name": "ipython",
    "version": 3
   },
   "file_extension": ".py",
   "mimetype": "text/x-python",
   "name": "python",
   "nbconvert_exporter": "python",
   "pygments_lexer": "ipython3",
   "version": "3.9.5"
  }
 },
 "nbformat": 4,
 "nbformat_minor": 5
}
