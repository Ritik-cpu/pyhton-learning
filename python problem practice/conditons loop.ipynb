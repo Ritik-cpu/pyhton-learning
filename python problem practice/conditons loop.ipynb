{
 "cells": [
  {
   "cell_type": "code",
   "execution_count": 11,
   "id": "cf50c2ae",
   "metadata": {},
   "outputs": [
    {
     "name": "stdout",
     "output_type": "stream",
     "text": [
      "13\n",
      "13\n",
      "13\n",
      "13\n",
      "13\n",
      "13\n",
      "13\n",
      "13\n"
     ]
    }
   ],
   "source": [
    "#fibonacci series using for loop\n",
    "# 0, 1, 1, 2, 3, 5, 8, 13, 21\n",
    "# formula fn=fn-1 + fn-2\n",
    "\n",
    "# n=int(input(\"enter the number\"))\n",
    "n=8\n",
    "fib=0\n",
    "if n==0:\n",
    "    print('invalid input')\n",
    "elif n==1:\n",
    "    print('1')\n",
    "else:\n",
    "    for i in range(n):\n",
    "        \n",
    "        print(fib)"
   ]
  }
 ],
 "metadata": {
  "kernelspec": {
   "display_name": "Python 3",
   "language": "python",
   "name": "python3"
  },
  "language_info": {
   "codemirror_mode": {
    "name": "ipython",
    "version": 3
   },
   "file_extension": ".py",
   "mimetype": "text/x-python",
   "name": "python",
   "nbconvert_exporter": "python",
   "pygments_lexer": "ipython3",
   "version": "3.9.5"
  }
 },
 "nbformat": 4,
 "nbformat_minor": 5
}
