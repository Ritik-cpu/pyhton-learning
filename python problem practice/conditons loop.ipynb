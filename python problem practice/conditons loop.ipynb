{
 "cells": [
  {
   "cell_type": "code",
   "execution_count": 11,
   "id": "cf50c2ae",
   "metadata": {},
   "outputs": [
    {
     "name": "stdout",
     "output_type": "stream",
     "text": [
      "1\n",
      "2\n",
      "3\n",
      "5\n",
      "8\n",
      "13\n"
     ]
    }
   ],
   "source": [
    "#fibonacci series using for loop\n",
    "# 0, 1, 1, 2, 3, 5, 8, 13, 21\n",
    "# formula fn=fn-1 + fn-2\n",
    "\n",
    "# n=int(input(\"enter the number\"))\n",
    "n=8\n",
    "a=0\n",
    "b=1\n",
    "for i in range(2,n):\n",
    "    c=a+b\n",
    "    a=b\n",
    "    b=c\n",
    "    print(b)\n"
   ]
  },
  {
   "cell_type": "code",
   "execution_count": 3,
   "id": "1b6082a9",
   "metadata": {},
   "outputs": [
    {
     "name": "stdout",
     "output_type": "stream",
     "text": [
      "enter the number 6\n",
      "91\n"
     ]
    }
   ],
   "source": [
    "#sum of square natural number\n",
    "n=int(input('enter the number '))\n",
    "sm=0\n",
    "for i in range(1,n+1):\n",
    "    sm=i*i+sm\n",
    "print(sm)\n"
   ]
  },
  {
   "cell_type": "code",
   "execution_count": 33,
   "id": "3d897fb5",
   "metadata": {},
   "outputs": [
    {
     "name": "stdout",
     "output_type": "stream",
     "text": [
      "enter number153\n",
      "is arms\n"
     ]
    }
   ],
   "source": [
    "# amstrong while loop\n",
    "n=int(input('enter number'))\n",
    "sm=0\n",
    "temp=n\n",
    "while temp>0:\n",
    "    digit=temp%10\n",
    "    sm+=digit**3\n",
    "    temp//=10\n",
    "\n",
    "if n==sm:\n",
    "    print('is arms')\n",
    "else:\n",
    "    print('not arms')\n"
   ]
  },
  {
   "cell_type": "code",
   "execution_count": 1,
   "id": "81bbad87",
   "metadata": {},
   "outputs": [
    {
     "name": "stdout",
     "output_type": "stream",
     "text": [
      "1\n",
      "2\n",
      "3\n",
      "4\n",
      "5\n",
      "6\n",
      "7\n",
      "8\n",
      "9\n",
      "10\n"
     ]
    }
   ],
   "source": [
    "n=10\n",
    "i=1\n",
    "sm=0\n",
    "while i<=n:\n",
    "    print(i)\n",
    "    i+=1"
   ]
  },
  {
   "cell_type": "code",
   "execution_count": 7,
   "id": "96c8e111",
   "metadata": {},
   "outputs": [
    {
     "name": "stdout",
     "output_type": "stream",
     "text": [
      "enter the numberi\n",
      "this is vowel\n"
     ]
    }
   ],
   "source": [
    "#program to check to vowel using set\n",
    "st={'a','e','i','o','u','A','E','I','O','U'}\n",
    "n=input('enter the number')\n",
    "if n in st:\n",
    "    print('this is vowel')\n",
    "else:\n",
    "    print('not vowel')"
   ]
  },
  {
   "cell_type": "code",
   "execution_count": null,
   "id": "4e79e684",
   "metadata": {},
   "outputs": [],
   "source": []
  }
 ],
 "metadata": {
  "kernelspec": {
   "display_name": "Python 3",
   "language": "python",
   "name": "python3"
  },
  "language_info": {
   "codemirror_mode": {
    "name": "ipython",
    "version": 3
   },
   "file_extension": ".py",
   "mimetype": "text/x-python",
   "name": "python",
   "nbconvert_exporter": "python",
   "pygments_lexer": "ipython3",
   "version": "3.9.5"
  }
 },
 "nbformat": 4,
 "nbformat_minor": 5
}
