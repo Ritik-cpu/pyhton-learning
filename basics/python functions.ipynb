{
 "cells": [
  {
   "cell_type": "code",
   "execution_count": 2,
   "id": "0885a663",
   "metadata": {},
   "outputs": [
    {
     "data": {
      "text/plain": [
       "'a function is a group of related statements that performs a specific task\\nfunctions make it more organized and manageable.\\nFurthermore, it avoids repetition and makes the code reusable.\\n'"
      ]
     },
     "execution_count": 2,
     "metadata": {},
     "output_type": "execute_result"
    }
   ],
   "source": [
    "#what is a function in python\n",
    "\"\"\"a function is a group of related statements that performs a specific task\n",
    "functions make it more organized and manageable.\n",
    "Furthermore, it avoids repetition and makes the code reusable.\n",
    "\"\"\"\n"
   ]
  },
  {
   "cell_type": "code",
   "execution_count": 4,
   "id": "58c50557",
   "metadata": {},
   "outputs": [
    {
     "name": "stdout",
     "output_type": "stream",
     "text": [
      "hi im ritik\n"
     ]
    }
   ],
   "source": [
    "#creating a function\n",
    "def myfun():\n",
    "    print(\"hi im ritik\")\n",
    "\n",
    "#calling a function\n",
    "myfun()"
   ]
  },
  {
   "cell_type": "code",
   "execution_count": 6,
   "id": "e95ad334",
   "metadata": {},
   "outputs": [
    {
     "name": "stdout",
     "output_type": "stream",
     "text": [
      "my name is ritik\n"
     ]
    }
   ],
   "source": [
    "#python function arguments\n",
    "def myfun(myname):\n",
    "    print('my name is '+myname)\n",
    "myfun('ritik')\n",
    "\n",
    "# A parameter is the variable listed inside the parentheses in the \n",
    "# function definition.\n",
    "\n",
    "# An argument is the value that is sent to the function when it is called.\n",
    "\n"
   ]
  },
  {
   "cell_type": "code",
   "execution_count": 8,
   "id": "913e1c1d",
   "metadata": {},
   "outputs": [
    {
     "name": "stdout",
     "output_type": "stream",
     "text": [
      "iloveyou\n"
     ]
    }
   ],
   "source": [
    "def func(do,you,love):\n",
    "    print(do +you +love)\n",
    "\n",
    "func('i','love','you')"
   ]
  },
  {
   "cell_type": "code",
   "execution_count": 4,
   "id": "422c2a79",
   "metadata": {},
   "outputs": [
    {
     "data": {
      "text/plain": [
       "120"
      ]
     },
     "execution_count": 4,
     "metadata": {},
     "output_type": "execute_result"
    }
   ],
   "source": [
    "#python recursion (a function that calls itself)\n",
    "\n",
    "def factorial(x):\n",
    "    if x==1:\n",
    "        return 1\n",
    "    else:\n",
    "        return(x*factorial(x-1))\n",
    "factorial(5)"
   ]
  },
  {
   "cell_type": "code",
   "execution_count": null,
   "id": "479508f5",
   "metadata": {},
   "outputs": [],
   "source": [
    "# Python Anonymous/Lambda Function\n",
    "# Program to show the use of lambda functions\n",
    "double = lambda x: x * 2\n",
    "\n",
    "print(double(5))\n",
    "\n",
    "# Program to double each item in a list using map()\n",
    "\n",
    "my_list = [1, 5, 4, 6, 8, 11, 3, 12]\n",
    "\n",
    "new_list = list(map(lambda x: x * 2 , my_list))\n",
    "\n",
    "print(new_list)"
   ]
  },
  {
   "cell_type": "code",
   "execution_count": null,
   "id": "9f65b5b3",
   "metadata": {},
   "outputs": [],
   "source": [
    "# Global Variables\n",
    "# a global variable can be accessed inside or outside of the function.\n",
    "x = \"global\"\n",
    "\n",
    "def foo():\n",
    "    print(\"x inside:\", x)\n",
    "\n",
    "\n",
    "foo()\n",
    "print(\"x outside:\", x)\n",
    "\n",
    "# Local Variables\n",
    "# A variable declared inside the function's \n",
    "# body or in the local scope is known as a local variable.\n",
    "def foo():\n",
    "    y = \"local\"\n",
    "\n",
    "\n",
    "foo()\n",
    "print(y)"
   ]
  },
  {
   "cell_type": "code",
   "execution_count": null,
   "id": "6687c82d",
   "metadata": {},
   "outputs": [],
   "source": [
    "# What are modules in Python?==============\n",
    "# Modules refer to a file containing Python statements and definitions.\n",
    "\n",
    "# A file containing Python code, for example: example.py, is called a module,\n",
    "#     and its module name would be example.\n",
    "\n",
    "# import only pi from math module\n",
    "\n",
    "from math import pi\n",
    "print(\"The value of pi is\", pi)\n"
   ]
  },
  {
   "cell_type": "code",
   "execution_count": null,
   "id": "759c7442",
   "metadata": {},
   "outputs": [],
   "source": []
  },
  {
   "cell_type": "code",
   "execution_count": null,
   "id": "4a5cb277",
   "metadata": {},
   "outputs": [],
   "source": []
  },
  {
   "cell_type": "code",
   "execution_count": null,
   "id": "9f7235ac",
   "metadata": {},
   "outputs": [],
   "source": []
  }
 ],
 "metadata": {
  "kernelspec": {
   "display_name": "Python 3",
   "language": "python",
   "name": "python3"
  },
  "language_info": {
   "codemirror_mode": {
    "name": "ipython",
    "version": 3
   },
   "file_extension": ".py",
   "mimetype": "text/x-python",
   "name": "python",
   "nbconvert_exporter": "python",
   "pygments_lexer": "ipython3",
   "version": "3.9.5"
  }
 },
 "nbformat": 4,
 "nbformat_minor": 5
}
