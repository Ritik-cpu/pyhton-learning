{
 "cells": [
  {
   "cell_type": "code",
   "execution_count": null,
   "id": "5c773fe6",
   "metadata": {},
   "outputs": [],
   "source": [
    "# data type\n",
    "# 1.list\n",
    "# 2.tuple\n",
    "# 3.string\n",
    "# 4.set\n",
    "# 5.dictionary"
   ]
  },
  {
   "cell_type": "code",
   "execution_count": 5,
   "id": "85213332",
   "metadata": {},
   "outputs": [
    {
     "name": "stdout",
     "output_type": "stream",
     "text": [
      "<class 'str'>\n",
      "<class 'int'>\n",
      "<class 'str'>\n",
      "<class 'str'>\n",
      "<class 'complex'>\n",
      "<class 'float'>\n"
     ]
    }
   ],
   "source": [
    "#lets work on datatype\n",
    "# 1.number data type in python\n",
    "a=['a',2,'ritik','753391',3+5j,6.3]\n",
    "for i in a:\n",
    "    x=type(i)\n",
    "    print(x)\n",
    "\n"
   ]
  },
  {
   "cell_type": "code",
   "execution_count": 27,
   "id": "e8da2232",
   "metadata": {},
   "outputs": [
    {
     "name": "stdout",
     "output_type": "stream",
     "text": [
      "[1, 2, 3, 45, 'hello', 'ninja']\n",
      "[[1, 2, 3, 45, 'hello', 'ninja'], 'great', ['mango', 4563], ['let me go', 44.3], 'mydef']\n",
      "hello\n",
      "4563\n",
      "ninja\n",
      "['o', 'g', 'r']\n",
      "['a', 'm', 'i', 'z']\n",
      "['p', 'r', 'o', 'g', 'r', 'a', 'm', 'i', 'z']\n",
      "[1, 4, 6, 8]\n",
      "[1, 3, 5, 7]\n",
      "[1, 3, 5, 4]\n",
      "[1, 3, 5, 4, 9, 11, 13]\n"
     ]
    }
   ],
   "source": [
    "#lets work on the list and tuples\n",
    "#1. lest create python list\n",
    "my_list=[1,2,3,45,'hello','ninja']\n",
    "print(my_list)\n",
    "\n",
    "#2.nested list\n",
    "myLst=[my_list,'great',['mango',4563],['let me go',44.3],'mydef']\n",
    "print(myLst)\n",
    "\n",
    "#lets do indexing\n",
    "print(my_list[4])\n",
    "\n",
    "#nested indexing\n",
    "print(myLst[2][1])\n",
    "\n",
    "#negative indexing in the list\n",
    "print(my_list[-1])\n",
    "\n",
    "\n",
    "# =====================List slicing in Python\n",
    "\n",
    "my_list = ['p','r','o','g','r','a','m','i','z']\n",
    "\n",
    "# elements from index 2 to index 4\n",
    "print(my_list[2:5])\n",
    "\n",
    "# elements from index 5 to end\n",
    "print(my_list[5:])\n",
    "\n",
    "# elements beginning to end\n",
    "print(my_list[:])\n",
    "\n",
    "#====================correcting mistake values in a list\n",
    "odd = [2, 4, 6, 8]\n",
    "\n",
    "# change the 1st item    \n",
    "odd[0] = 1            \n",
    "\n",
    "print(odd)\n",
    "\n",
    "# change 2nd to 4th items\n",
    "odd[1:4] = [3, 5, 7]  \n",
    "\n",
    "print(odd)  \n",
    "\n",
    "#================== Appending and Extending lists in Python\n",
    "odd = [1, 3, 5]\n",
    "odd.append(4)\n",
    "print(odd)\n",
    "\n",
    "odd.extend([9, 11, 13])\n",
    "print(odd)"
   ]
  },
  {
   "cell_type": "code",
   "execution_count": 28,
   "id": "716a5baa",
   "metadata": {},
   "outputs": [
    {
     "name": "stdout",
     "output_type": "stream",
     "text": [
      "[1, 3, 5, 9, 7, 5]\n",
      "['re', 're', 're']\n"
     ]
    }
   ],
   "source": [
    "# Concatenating and repeating lists\n",
    "odd = [1, 3, 5]\n",
    "\n",
    "print(odd + [9, 7, 5])\n",
    "\n",
    "print([\"re\"] * 3)"
   ]
  },
  {
   "cell_type": "code",
   "execution_count": null,
   "id": "cf9505da",
   "metadata": {},
   "outputs": [],
   "source": [
    "# Demonstration of list insert() method\n",
    "odd = [1, 9]\n",
    "odd.insert(1,3)\n",
    "\n",
    "print(odd)\n",
    "\n",
    "odd[2:2] = [5, 7]\n",
    "\n",
    "print(odd)"
   ]
  },
  {
   "cell_type": "code",
   "execution_count": null,
   "id": "d7f01ae2",
   "metadata": {},
   "outputs": [],
   "source": [
    "# Deleting list items\n",
    "my_list = ['p', 'r', 'o', 'b', 'l', 'e', 'm']\n",
    "\n",
    "# delete one item\n",
    "del my_list[2]\n",
    "\n",
    "print(my_list)\n",
    "\n",
    "# delete multiple items\n",
    "del my_list[1:5]\n",
    "\n",
    "print(my_list)\n",
    "\n",
    "# delete the entire list\n",
    "del my_list\n",
    "\n",
    "# Error: List not defined\n",
    "print(my_list)"
   ]
  },
  {
   "cell_type": "code",
   "execution_count": null,
   "id": "c3459c3e",
   "metadata": {},
   "outputs": [],
   "source": [
    "my_list = ['p','r','o','b','l','e','m']\n",
    "my_list.remove('p')\n",
    "\n",
    "# Output: ['r', 'o', 'b', 'l', 'e', 'm']\n",
    "print(my_list)\n",
    "\n",
    "# Output: 'o'\n",
    "print(my_list.pop(1))\n",
    "\n",
    "# Output: ['r', 'b', 'l', 'e', 'm']\n",
    "print(my_list)\n",
    "\n",
    "# Output: 'm'\n",
    "print(my_list.pop())\n",
    "\n",
    "# Output: ['r', 'b', 'l', 'e']\n",
    "print(my_list)\n",
    "\n",
    "my_list.clear()\n",
    "\n",
    "# Output: []\n",
    "print(my_list)"
   ]
  },
  {
   "cell_type": "code",
   "execution_count": null,
   "id": "2f3635ce",
   "metadata": {},
   "outputs": [],
   "source": [
    "# Methods\tDescriptions\n",
    "# append()\tadds an element to the end of the list\n",
    "# extend()\tadds all elements of a list to another list\n",
    "# insert()\tinserts an item at the defined index\n",
    "# remove()\tremoves an item from the list\n",
    "# pop()\treturns and removes an element at the given index\n",
    "# clear()\tremoves all items from the list\n",
    "# index()\treturns the index of the first matched item\n",
    "# count()\treturns the count of the number of items passed as an argument\n",
    "# sort()\tsort items in a list in ascending order\n",
    "# reverse()\treverse the order of items in the list\n",
    "# copy() \treturns a shallow copy of the list"
   ]
  },
  {
   "cell_type": "code",
   "execution_count": null,
   "id": "ed3b6d36",
   "metadata": {},
   "outputs": [],
   "source": [
    "======================================================================="
   ]
  },
  {
   "cell_type": "code",
   "execution_count": null,
   "id": "705ede3a",
   "metadata": {},
   "outputs": [],
   "source": [
    "# A tuple in Python is similar to a list. \n",
    "# The difference between the two is that we cannot change the elements of\n",
    "# a tuple once it is assigned whereas we can change the elements of \n",
    "# a list."
   ]
  },
  {
   "cell_type": "code",
   "execution_count": 1,
   "id": "9dcb04cd",
   "metadata": {},
   "outputs": [
    {
     "name": "stdout",
     "output_type": "stream",
     "text": [
      "()\n",
      "(1, 2, 3)\n",
      "(1, 'Hello', 3.4)\n",
      "('mouse', [8, 4, 6], (1, 2, 3))\n"
     ]
    }
   ],
   "source": [
    "# Different types of tuples\n",
    "\n",
    "# Empty tuple\n",
    "my_tuple = ()\n",
    "print(my_tuple)\n",
    "\n",
    "# Tuple having integers\n",
    "my_tuple = (1, 2, 3)\n",
    "print(my_tuple)\n",
    "\n",
    "# tuple with mixed datatypes\n",
    "my_tuple = (1, \"Hello\", 3.4)\n",
    "print(my_tuple)\n",
    "\n",
    "# nested tuple\n",
    "my_tuple = (\"mouse\", [8, 4, 6], (1, 2, 3))\n",
    "print(my_tuple)"
   ]
  },
  {
   "cell_type": "code",
   "execution_count": 2,
   "id": "bf69bd30",
   "metadata": {},
   "outputs": [
    {
     "name": "stdout",
     "output_type": "stream",
     "text": [
      "(3, 4.6, 'dog')\n",
      "3\n",
      "4.6\n",
      "dog\n"
     ]
    }
   ],
   "source": [
    "# A tuple can also be created without using parentheses.\n",
    "# This is known as tuple packing.\n",
    "\n",
    "my_tuple = 3, 4.6, \"dog\"\n",
    "print(my_tuple)\n",
    "\n",
    "# tuple unpacking is also possible\n",
    "a, b, c = my_tuple\n",
    "\n",
    "print(a)      # 3\n",
    "print(b)      # 4.6\n",
    "print(c)      # dog"
   ]
  },
  {
   "cell_type": "code",
   "execution_count": 3,
   "id": "5fe3c7b1",
   "metadata": {},
   "outputs": [
    {
     "name": "stdout",
     "output_type": "stream",
     "text": [
      "p\n",
      "t\n",
      "s\n",
      "4\n"
     ]
    }
   ],
   "source": [
    "# Accessing tuple elements using indexing\n",
    "my_tuple = ('p','e','r','m','i','t')\n",
    "\n",
    "print(my_tuple[0])   # 'p' \n",
    "print(my_tuple[5])   # 't'\n",
    "\n",
    "# IndexError: list index out of range\n",
    "# print(my_tuple[6])\n",
    "\n",
    "# Index must be an integer\n",
    "# TypeError: list indices must be integers, not float\n",
    "# my_tuple[2.0]\n",
    "\n",
    "# nested tuple\n",
    "n_tuple = (\"mouse\", [8, 4, 6], (1, 2, 3))\n",
    "\n",
    "# nested index\n",
    "print(n_tuple[0][3])       # 's'\n",
    "print(n_tuple[1][1])       # 4"
   ]
  },
  {
   "cell_type": "code",
   "execution_count": null,
   "id": "eda04120",
   "metadata": {},
   "outputs": [],
   "source": [
    "# Accessing tuple elements using slicing\n",
    "my_tuple = ('p','r','o','g','r','a','m','i','z')\n",
    "\n",
    "# elements 2nd to 4th\n",
    "# Output: ('r', 'o', 'g')\n",
    "print(my_tuple[1:4])\n",
    "\n",
    "# elements beginning to 2nd\n",
    "# Output: ('p', 'r')\n",
    "print(my_tuple[:-7])\n",
    "\n",
    "# elements 8th to end\n",
    "# Output: ('i', 'z')\n",
    "print(my_tuple[7:])\n",
    "\n",
    "# elements beginning to end\n",
    "# Output: ('p', 'r', 'o', 'g', 'r', 'a', 'm', 'i', 'z')\n",
    "print(my_tuple[:])"
   ]
  },
  {
   "cell_type": "code",
   "execution_count": null,
   "id": "b8a2bbfb",
   "metadata": {},
   "outputs": [],
   "source": [
    "# Changing tuple values\n",
    "my_tuple = (4, 2, 3, [6, 5])\n",
    "\n",
    "\n",
    "# TypeError: 'tuple' object does not support item assignment\n",
    "# my_tuple[1] = 9\n",
    "\n",
    "# However, item of mutable element can be changed\n",
    "my_tuple[3][0] = 9    # Output: (4, 2, 3, [9, 5])\n",
    "print(my_tuple)\n",
    "\n",
    "# Tuples can be reassigned\n",
    "my_tuple = ('p', 'r', 'o', 'g', 'r', 'a', 'm', 'i', 'z')\n",
    "\n",
    "# Output: ('p', 'r', 'o', 'g', 'r', 'a', 'm', 'i', 'z')\n",
    "print(my_tuple)"
   ]
  },
  {
   "cell_type": "code",
   "execution_count": null,
   "id": "19c5cd21",
   "metadata": {},
   "outputs": [],
   "source": [
    "# Concatenation\n",
    "# Output: (1, 2, 3, 4, 5, 6)\n",
    "print((1, 2, 3) + (4, 5, 6))\n",
    "\n",
    "# Repeat\n",
    "# Output: ('Repeat', 'Repeat', 'Repeat')\n",
    "print((\"Repeat\",) * 3)"
   ]
  },
  {
   "cell_type": "code",
   "execution_count": null,
   "id": "3ba34f9a",
   "metadata": {},
   "outputs": [],
   "source": [
    "# Deleting tuples\n",
    "my_tuple = ('p', 'r', 'o', 'g', 'r', 'a', 'm', 'i', 'z')\n",
    "\n",
    "# can't delete items\n",
    "# TypeError: 'tuple' object doesn't support item deletion\n",
    "# del my_tuple[3]\n",
    "\n",
    "# Can delete an entire tuple\n",
    "del my_tuple\n",
    "\n",
    "# NameError: name 'my_tuple' is not defined\n",
    "print(my_tuple)"
   ]
  },
  {
   "cell_type": "code",
   "execution_count": null,
   "id": "da74a567",
   "metadata": {},
   "outputs": [],
   "source": [
    "my_tuple = ('a', 'p', 'p', 'l', 'e',)\n",
    "\n",
    "print(my_tuple.count('p'))  # Output: 2\n",
    "print(my_tuple.index('l'))  # Output: 3"
   ]
  },
  {
   "cell_type": "code",
   "execution_count": null,
   "id": "ec6cab7a",
   "metadata": {},
   "outputs": [],
   "source": [
    "# Membership test in tuple\n",
    "my_tuple = ('a', 'p', 'p', 'l', 'e',)\n",
    "\n",
    "# In operation\n",
    "print('a' in my_tuple)\n",
    "print('b' in my_tuple)\n",
    "\n",
    "# Not in operation\n",
    "print('g' not in my_tuple)"
   ]
  },
  {
   "cell_type": "code",
   "execution_count": null,
   "id": "fdd58ea5",
   "metadata": {},
   "outputs": [],
   "source": [
    "# Using a for loop to iterate through a tuple\n",
    "for name in ('John', 'Kate'):\n",
    "    print(\"Hello\", name)"
   ]
  },
  {
   "cell_type": "code",
   "execution_count": null,
   "id": "7b839179",
   "metadata": {},
   "outputs": [],
   "source": [
    "===========================================================\n"
   ]
  },
  {
   "cell_type": "code",
   "execution_count": null,
   "id": "b327a260",
   "metadata": {},
   "outputs": [],
   "source": []
  },
  {
   "cell_type": "code",
   "execution_count": null,
   "id": "9ceb4c3c",
   "metadata": {},
   "outputs": [],
   "source": []
  }
 ],
 "metadata": {
  "kernelspec": {
   "display_name": "Python 3",
   "language": "python",
   "name": "python3"
  },
  "language_info": {
   "codemirror_mode": {
    "name": "ipython",
    "version": 3
   },
   "file_extension": ".py",
   "mimetype": "text/x-python",
   "name": "python",
   "nbconvert_exporter": "python",
   "pygments_lexer": "ipython3",
   "version": "3.9.5"
  }
 },
 "nbformat": 4,
 "nbformat_minor": 5
}
