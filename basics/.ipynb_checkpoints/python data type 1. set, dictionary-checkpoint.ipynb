{
 "cells": [
  {
   "cell_type": "code",
   "execution_count": 5,
   "id": "0c5c88ba",
   "metadata": {},
   "outputs": [
    {
     "name": "stdout",
     "output_type": "stream",
     "text": [
      "<class 'str'>\n",
      "<class 'int'>\n",
      "<class 'str'>\n",
      "<class 'str'>\n",
      "<class 'complex'>\n",
      "<class 'float'>\n"
     ]
    }
   ],
   "source": [
    "#lets work on datatype\n",
    "# 1.number data type in python\n",
    "a=['a',2,'ritik','753391',3+5j,6.3]\n",
    "for i in a:\n",
    "    x=type(i)\n",
    "    print(x)\n",
    "\n"
   ]
  },
  {
   "cell_type": "code",
   "execution_count": 27,
   "id": "c2999b4d",
   "metadata": {},
   "outputs": [
    {
     "name": "stdout",
     "output_type": "stream",
     "text": [
      "[1, 2, 3, 45, 'hello', 'ninja']\n",
      "[[1, 2, 3, 45, 'hello', 'ninja'], 'great', ['mango', 4563], ['let me go', 44.3], 'mydef']\n",
      "hello\n",
      "4563\n",
      "ninja\n",
      "['o', 'g', 'r']\n",
      "['a', 'm', 'i', 'z']\n",
      "['p', 'r', 'o', 'g', 'r', 'a', 'm', 'i', 'z']\n",
      "[1, 4, 6, 8]\n",
      "[1, 3, 5, 7]\n",
      "[1, 3, 5, 4]\n",
      "[1, 3, 5, 4, 9, 11, 13]\n"
     ]
    }
   ],
   "source": [
    "#lets work on the list and tuples\n",
    "#1. lest create python list\n",
    "my_list=[1,2,3,45,'hello','ninja']\n",
    "print(my_list)\n",
    "\n",
    "#2.nested list\n",
    "myLst=[my_list,'great',['mango',4563],['let me go',44.3],'mydef']\n",
    "print(myLst)\n",
    "\n",
    "#lets do indexing\n",
    "print(my_list[4])\n",
    "\n",
    "#nested indexing\n",
    "print(myLst[2][1])\n",
    "\n",
    "#negative indexing in the list\n",
    "print(my_list[-1])\n",
    "\n",
    "\n",
    "# =====================List slicing in Python\n",
    "\n",
    "my_list = ['p','r','o','g','r','a','m','i','z']\n",
    "\n",
    "# elements from index 2 to index 4\n",
    "print(my_list[2:5])\n",
    "\n",
    "# elements from index 5 to end\n",
    "print(my_list[5:])\n",
    "\n",
    "# elements beginning to end\n",
    "print(my_list[:])\n",
    "\n",
    "#====================correcting mistake values in a list\n",
    "odd = [2, 4, 6, 8]\n",
    "\n",
    "# change the 1st item    \n",
    "odd[0] = 1            \n",
    "\n",
    "print(odd)\n",
    "\n",
    "# change 2nd to 4th items\n",
    "odd[1:4] = [3, 5, 7]  \n",
    "\n",
    "print(odd)  \n",
    "\n",
    "#================== Appending and Extending lists in Python\n",
    "odd = [1, 3, 5]\n",
    "odd.append(4)\n",
    "print(odd)\n",
    "\n",
    "odd.extend([9, 11, 13])\n",
    "print(odd)"
   ]
  },
  {
   "cell_type": "code",
   "execution_count": 28,
   "id": "a5e58715",
   "metadata": {},
   "outputs": [
    {
     "name": "stdout",
     "output_type": "stream",
     "text": [
      "[1, 3, 5, 9, 7, 5]\n",
      "['re', 're', 're']\n"
     ]
    }
   ],
   "source": [
    "# Concatenating and repeating lists\n",
    "odd = [1, 3, 5]\n",
    "\n",
    "print(odd + [9, 7, 5])\n",
    "\n",
    "print([\"re\"] * 3)"
   ]
  },
  {
   "cell_type": "code",
   "execution_count": null,
   "id": "75226e2a",
   "metadata": {},
   "outputs": [],
   "source": [
    "# Demonstration of list insert() method\n",
    "odd = [1, 9]\n",
    "odd.insert(1,3)\n",
    "\n",
    "print(odd)\n",
    "\n",
    "odd[2:2] = [5, 7]\n",
    "\n",
    "print(odd)"
   ]
  },
  {
   "cell_type": "code",
   "execution_count": null,
   "id": "2f8f2a6f",
   "metadata": {},
   "outputs": [],
   "source": [
    "# Deleting list items\n",
    "my_list = ['p', 'r', 'o', 'b', 'l', 'e', 'm']\n",
    "\n",
    "# delete one item\n",
    "del my_list[2]\n",
    "\n",
    "print(my_list)\n",
    "\n",
    "# delete multiple items\n",
    "del my_list[1:5]\n",
    "\n",
    "print(my_list)\n",
    "\n",
    "# delete the entire list\n",
    "del my_list\n",
    "\n",
    "# Error: List not defined\n",
    "print(my_list)"
   ]
  },
  {
   "cell_type": "code",
   "execution_count": null,
   "id": "a8276c59",
   "metadata": {},
   "outputs": [],
   "source": [
    "my_list = ['p','r','o','b','l','e','m']\n",
    "my_list.remove('p')\n",
    "\n",
    "# Output: ['r', 'o', 'b', 'l', 'e', 'm']\n",
    "print(my_list)\n",
    "\n",
    "# Output: 'o'\n",
    "print(my_list.pop(1))\n",
    "\n",
    "# Output: ['r', 'b', 'l', 'e', 'm']\n",
    "print(my_list)\n",
    "\n",
    "# Output: 'm'\n",
    "print(my_list.pop())\n",
    "\n",
    "# Output: ['r', 'b', 'l', 'e']\n",
    "print(my_list)\n",
    "\n",
    "my_list.clear()\n",
    "\n",
    "# Output: []\n",
    "print(my_list)"
   ]
  },
  {
   "cell_type": "code",
   "execution_count": null,
   "id": "d563243b",
   "metadata": {},
   "outputs": [],
   "source": [
    "# Methods\tDescriptions\n",
    "# append()\tadds an element to the end of the list\n",
    "# extend()\tadds all elements of a list to another list\n",
    "# insert()\tinserts an item at the defined index\n",
    "# remove()\tremoves an item from the list\n",
    "# pop()\treturns and removes an element at the given index\n",
    "# clear()\tremoves all items from the list\n",
    "# index()\treturns the index of the first matched item\n",
    "# count()\treturns the count of the number of items passed as an argument\n",
    "# sort()\tsort items in a list in ascending order\n",
    "# reverse()\treverse the order of items in the list\n",
    "# copy() \treturns a shallow copy of the list"
   ]
  },
  {
   "cell_type": "code",
   "execution_count": null,
   "id": "425506e0",
   "metadata": {},
   "outputs": [],
   "source": []
  }
 ],
 "metadata": {
  "kernelspec": {
   "display_name": "Python 3",
   "language": "python",
   "name": "python3"
  },
  "language_info": {
   "codemirror_mode": {
    "name": "ipython",
    "version": 3
   },
   "file_extension": ".py",
   "mimetype": "text/x-python",
   "name": "python",
   "nbconvert_exporter": "python",
   "pygments_lexer": "ipython3",
   "version": "3.9.5"
  }
 },
 "nbformat": 4,
 "nbformat_minor": 5
}
