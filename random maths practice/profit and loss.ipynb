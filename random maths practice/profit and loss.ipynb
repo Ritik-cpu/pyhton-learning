{
 "cells": [
  {
   "cell_type": "code",
   "execution_count": 4,
   "id": "e4abbdbf",
   "metadata": {},
   "outputs": [
    {
     "name": "stdout",
     "output_type": "stream",
     "text": [
      "enter the cost price 600\n",
      "enter the selling price 500\n",
      "you get the loss 100\n",
      "your loss percentage is 16.666666666666668\n"
     ]
    }
   ],
   "source": [
    "#================lets find profit and loss with percentage========\n",
    "cp=int(input('enter the cost price '))\n",
    "sp=int(input('enter the selling price '))\n",
    "\n",
    "if sp>cp:\n",
    "    profit=sp-cp\n",
    "    print('you get the profit '+ str(profit))\n",
    "    #======percentage======\n",
    "    percent=profit*100/cp\n",
    "    print('your profit percentage is ' +str(percent))\n",
    "elif cp>sp:\n",
    "    loss=cp-sp\n",
    "    print('you get the loss '+ str(loss))\n",
    "    #======loss percentage=========\n",
    "    percent=loss*100/cp\n",
    "    print('your loss percentage is '+ str(percent))\n",
    "    "
   ]
  }
 ],
 "metadata": {
  "kernelspec": {
   "display_name": "Python 3",
   "language": "python",
   "name": "python3"
  },
  "language_info": {
   "codemirror_mode": {
    "name": "ipython",
    "version": 3
   },
   "file_extension": ".py",
   "mimetype": "text/x-python",
   "name": "python",
   "nbconvert_exporter": "python",
   "pygments_lexer": "ipython3",
   "version": "3.9.5"
  }
 },
 "nbformat": 4,
 "nbformat_minor": 5
}
