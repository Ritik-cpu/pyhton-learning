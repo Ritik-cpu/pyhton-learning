{
 "cells": [
  {
   "cell_type": "code",
   "execution_count": 7,
   "id": "61357af3",
   "metadata": {},
   "outputs": [
    {
     "name": "stdout",
     "output_type": "stream",
     "text": [
      "enter the cost price 2516\n",
      "enter the selling price 2272\n",
      "your loss is 244\n",
      "your loss percentage is 9.697933227344992%\n"
     ]
    }
   ],
   "source": [
    "#============= lets find profit and loss====================================\n",
    "\n",
    "cp=int(input('enter the cost price '))\n",
    "sp=int(input('enter the selling price '))\n",
    "\n",
    "\n",
    "if sp>cp :\n",
    "    gain=sp-cp\n",
    "    print('your profit is '+ str(gain))\n",
    "#     gain percentage\n",
    "    per=gain*100/cp\n",
    "    print('your profit percentage is '+str(per)+'%')\n",
    "elif cp>sp:\n",
    "    loss=cp-sp\n",
    "    print('your loss is '+ str(loss))\n",
    "#     loss percentage\n",
    "    per=loss*100/cp\n",
    "    print('your loss percentage is ' +str(per)+'%')\n",
    "    "
   ]
  },
  {
   "cell_type": "code",
   "execution_count": 2,
   "id": "55c1f3ef",
   "metadata": {},
   "outputs": [
    {
     "name": "stdout",
     "output_type": "stream",
     "text": [
      "enter the cost price 250000\n",
      "enter the gain percent39.2\n",
      "348000.0\n"
     ]
    }
   ],
   "source": [
    "# ===========================================================================\n",
    "cp=int(input('enter the cost price '))\n",
    "gain=float(input('enter the gain percent'))\n",
    "sp=(100+gain)*cp/100\n",
    "print(sp)\n"
   ]
  },
  {
   "cell_type": "code",
   "execution_count": null,
   "id": "ef5741c1",
   "metadata": {},
   "outputs": [],
   "source": []
  }
 ],
 "metadata": {
  "kernelspec": {
   "display_name": "Python 3",
   "language": "python",
   "name": "python3"
  },
  "language_info": {
   "codemirror_mode": {
    "name": "ipython",
    "version": 3
   },
   "file_extension": ".py",
   "mimetype": "text/x-python",
   "name": "python",
   "nbconvert_exporter": "python",
   "pygments_lexer": "ipython3",
   "version": "3.9.5"
  }
 },
 "nbformat": 4,
 "nbformat_minor": 5
}
