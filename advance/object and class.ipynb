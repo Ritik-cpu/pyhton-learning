{
 "cells": [
  {
   "cell_type": "code",
   "execution_count": null,
   "id": "8f0523fb",
   "metadata": {},
   "outputs": [],
   "source": [
    "# object oriented programming\n",
    "\n",
    "\"\"\"\n",
    "Python is a multi-paradigm programming language. It supports different programming approaches.\n",
    "\n",
    "One of the popular approaches to solve a programming problem is by creating objects. This is known as Object-Oriented Programming (OOP).\n",
    "\n",
    "An object has two characteristics:\n",
    "\n",
    "attributes\n",
    "behavior\n",
    "Let's take an example:\n",
    "\n",
    "A parrot is an object, as it has the following properties:\n",
    "\n",
    "name, age, color as attributes\n",
    "singing, dancing as behavior\n",
    "The concept of OOP in Python focuses on creating reusable code. This concept is also known as DRY (Don't Repeat Yourself).\n",
    "\"\"\"\n",
    "\n"
   ]
  },
  {
   "cell_type": "code",
   "execution_count": 12,
   "id": "81017d77",
   "metadata": {},
   "outputs": [
    {
     "name": "stdout",
     "output_type": "stream",
     "text": [
      "blue is a bird\n",
      "woo is a  also bird\n",
      "blu is 10 year old\n",
      "woo is 4 year old\n"
     ]
    }
   ],
   "source": [
    "#creating class and object in python\n",
    "\n",
    "class parrot:\n",
    "    #class attr\n",
    "    species='bird'\n",
    "    #instance attribute\n",
    "    def __init__(self, name, age):\n",
    "        self.name=name\n",
    "        self.age=age\n",
    "    \n",
    "blu=parrot('blu',10)\n",
    "woo=parrot('woo',4)\n",
    "\n",
    "#access the class attributes\n",
    "print('blue is a {}'.format(blu.__class__.species))\n",
    "print('woo is a  also {}'.format(woo.__class__.species))  \n",
    "\n",
    "#access the instance attributes\n",
    "print(\"{} is {} year old\".format(blu.name, blu.age))\n",
    "print(\"{} is {} year old\".format(woo.name, woo.age))"
   ]
  },
  {
   "cell_type": "code",
   "execution_count": 25,
   "id": "dbde7c8a",
   "metadata": {},
   "outputs": [
    {
     "name": "stdout",
     "output_type": "stream",
     "text": [
      "riku sings 'Happy' \n"
     ]
    }
   ],
   "source": [
    "# method\n",
    "# method are functions defined inside the body of a they are used to define\n",
    "# behaviors of an object\n",
    "\n",
    "class parrot:\n",
    "    #instance attri\n",
    "    def __init__(self, name, age):\n",
    "        self.name=name\n",
    "        self.age=age\n",
    "        #instance method\n",
    "    def sing(self, song):\n",
    "            return \"{} sings {} \".format(self.name,song)\n",
    "    def dance(self):\n",
    "            return \"{} dance\".format(self)\n",
    "\n",
    "#instantiate the obj\n",
    "blu=parrot(\"riku\", 10)\n",
    "\n",
    "#call methods\n",
    "print(blu.sing(\"'Happy'\"))"
   ]
  },
  {
   "cell_type": "code",
   "execution_count": 22,
   "id": "764feefb",
   "metadata": {},
   "outputs": [
    {
     "name": "stdout",
     "output_type": "stream",
     "text": [
      "Blu sings 'Happy'\n",
      "Blu is now dancing\n"
     ]
    }
   ],
   "source": []
  },
  {
   "cell_type": "code",
   "execution_count": null,
   "id": "a8c4ceef",
   "metadata": {},
   "outputs": [],
   "source": []
  },
  {
   "cell_type": "code",
   "execution_count": null,
   "id": "f3a9e0fd",
   "metadata": {},
   "outputs": [],
   "source": []
  },
  {
   "cell_type": "code",
   "execution_count": null,
   "id": "dd79053a",
   "metadata": {},
   "outputs": [],
   "source": []
  },
  {
   "cell_type": "code",
   "execution_count": null,
   "id": "6656401f",
   "metadata": {},
   "outputs": [],
   "source": []
  },
  {
   "cell_type": "code",
   "execution_count": null,
   "id": "c18391b9",
   "metadata": {},
   "outputs": [],
   "source": []
  }
 ],
 "metadata": {
  "kernelspec": {
   "display_name": "Python 3",
   "language": "python",
   "name": "python3"
  },
  "language_info": {
   "codemirror_mode": {
    "name": "ipython",
    "version": 3
   },
   "file_extension": ".py",
   "mimetype": "text/x-python",
   "name": "python",
   "nbconvert_exporter": "python",
   "pygments_lexer": "ipython3",
   "version": "3.9.5"
  }
 },
 "nbformat": 4,
 "nbformat_minor": 5
}
