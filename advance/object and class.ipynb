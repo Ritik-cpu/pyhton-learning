{
 "cells": [
  {
   "cell_type": "code",
   "execution_count": null,
   "id": "8f0523fb",
   "metadata": {},
   "outputs": [],
   "source": [
    "# object oriented programming\n",
    "\n",
    "\"\"\"\n",
    "Python is a multi-paradigm programming language. It supports different programming approaches.\n",
    "\n",
    "One of the popular approaches to solve a programming problem is by creating objects. This is known as Object-Oriented Programming (OOP).\n",
    "\n",
    "An object has two characteristics:\n",
    "\n",
    "attributes\n",
    "behavior\n",
    "Let's take an example:\n",
    "\n",
    "A parrot is an object, as it has the following properties:\n",
    "\n",
    "name, age, color as attributes\n",
    "singing, dancing as behavior\n",
    "The concept of OOP in Python focuses on creating reusable code. This concept is also known as DRY (Don't Repeat Yourself).\n",
    "\"\"\"\n",
    "\n"
   ]
  }
 ],
 "metadata": {
  "kernelspec": {
   "display_name": "Python 3",
   "language": "python",
   "name": "python3"
  },
  "language_info": {
   "codemirror_mode": {
    "name": "ipython",
    "version": 3
   },
   "file_extension": ".py",
   "mimetype": "text/x-python",
   "name": "python",
   "nbconvert_exporter": "python",
   "pygments_lexer": "ipython3",
   "version": "3.9.5"
  }
 },
 "nbformat": 4,
 "nbformat_minor": 5
}
